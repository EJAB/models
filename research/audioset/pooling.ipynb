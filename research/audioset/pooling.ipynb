{
 "cells": [
  {
   "cell_type": "code",
   "execution_count": 1,
   "metadata": {},
   "outputs": [],
   "source": [
    "import numpy as np\n",
    "import matplotlib.pylab as P\n",
    "from numpy import transpose\n",
    "import matplotlib.pyplot\n",
    "from sklearn import preprocessing\n",
    "np.set_printoptions(threshold=np.inf)"
   ]
  },
  {
   "cell_type": "code",
   "execution_count": 4,
   "metadata": {},
   "outputs": [],
   "source": [
    "n = np.load(\"/Users/janelabumanglag/FYP/models/research/audioset/snore.wav.npy\")\n",
    "p = np.load(\"/Users/janelabumanglag/FYP/models/research/audioset/long_applause.wav.npy\")\n",
    "a = np.load(\"/Users/janelabumanglag/FYP/models/research/audioset/short_applause.wav.npy\")"
   ]
  },
  {
   "cell_type": "code",
   "execution_count": 5,
   "metadata": {},
   "outputs": [
    {
     "name": "stdout",
     "output_type": "stream",
     "text": [
      "positive:  (1, 1) [[0.94800238]]\n",
      "negative:  (1, 1) [[0.91146563]]\n"
     ]
    }
   ],
   "source": [
    "# L2 norm on the query and example data\n",
    "positive = preprocessing.normalize(p, norm='l2', axis=1)\n",
    "negative = preprocessing.normalize(n, norm='l2', axis=1)\n",
    "anchor = preprocessing.normalize(a, norm='l2', axis=1)\n",
    "\n",
    "# Sum down the column to perform sum pooling\n",
    "sum_anchor = np.sum(anchor, axis=0)\n",
    "sum_positive = np.sum(positive, axis=0)\n",
    "sum_negative = np.sum(negative, axis=0)\n",
    "\n",
    "# Sum pooling\n",
    "new_anchor = np.array(sum_anchor)[None, :]\n",
    "new_positive = np.array(sum_positive)[None, :]\n",
    "new_negative = np.array(sum_negative)[None, :]\n",
    "\n",
    "# L2 norm again on sum pooled representations\n",
    "final_positive = preprocessing.normalize(new_positive, norm='l2', axis=1)\n",
    "final_negative = preprocessing.normalize(new_negative, norm='l2', axis=1)\n",
    "final_anchor = preprocessing.normalize(new_anchor, norm='l2', axis=1)\n",
    "\n",
    "# Dot product to produce a single descriptor\n",
    "dot_positive = np.dot(final_anchor, final_positive.T)\n",
    "dot_negative = np.dot(final_anchor, final_negative.T)\n",
    "\n",
    "print(\"positive: \", dot_positive.shape, dot_positive)\n",
    "print(\"negative: \", dot_negative.shape, dot_negative)"
   ]
  },
  {
   "cell_type": "code",
   "execution_count": 6,
   "metadata": {},
   "outputs": [
    {
     "data": {
      "image/png": "[encoded data removed]",
      "text/plain": [
       "<matplotlib.figure.Figure at 0x1a0d794550>"
      ]
     },
     "metadata": {},
     "output_type": "display_data"
    }
   ],
   "source": [
    "# Max pooling\n",
    "dot_positive_max = np.dot(positive, anchor.T)\n",
    "dot_negative_max = np.dot(negative, anchor.T)\n",
    "\n",
    "max_dot = np.max(dot_positive_max, axis=0)\n",
    "min_dot = np.min(dot_positive_max, axis=0)\n",
    "mean_dot = np.mean(dot_positive_max, axis=0)\n",
    "\n",
    "P.figure()\n",
    "P.hist(dot_positive_max, bins=20)\n",
    "P.show()"
   ]
  },
  {
   "cell_type": "code",
   "execution_count": null,
   "metadata": {},
   "outputs": [],
   "source": []
  }
 ],
 "metadata": {
  "kernelspec": {
   "display_name": "Python 3",
   "language": "python",
   "name": "python3"
  },
  "language_info": {
   "codemirror_mode": {
    "name": "ipython",
    "version": 3
   },
   "file_extension": ".py",
   "mimetype": "text/x-python",
   "name": "python",
   "nbconvert_exporter": "python",
   "pygments_lexer": "ipython3",
   "version": "3.5.4"
  }
 },
 "nbformat": 4,
 "nbformat_minor": 1
}
